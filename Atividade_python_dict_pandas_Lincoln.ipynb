{
  "nbformat": 4,
  "nbformat_minor": 0,
  "metadata": {
    "colab": {
      "provenance": [],
      "include_colab_link": true
    },
    "kernelspec": {
      "name": "python3",
      "display_name": "Python 3"
    },
    "language_info": {
      "name": "python"
    }
  },
  "cells": [
    {
      "cell_type": "markdown",
      "metadata": {
        "id": "view-in-github",
        "colab_type": "text"
      },
      "source": [
        "<a href=\"https://colab.research.google.com/github/Lincoln-Alyson/Lincoln_atividades/blob/main/Atividade_python_dict_pandas_Lincoln.ipynb\" target=\"_parent\"><img src=\"https://colab.research.google.com/assets/colab-badge.svg\" alt=\"Open In Colab\"/></a>"
      ]
    },
    {
      "cell_type": "markdown",
      "source": [
        "1) Faça uma análise de notas. Atribua valores para notas 1, 2 e 3. Calcule a média aritmética das notas e armazene o valor na variaável media.\n",
        "Em seguida, verifique se a media calculada é superior ou igual a 7. Se aceita a condição, exiba pelo comando print a string aprovado, caso contrário, exiba a palavra reprovado."
      ],
      "metadata": {
        "id": "5XHusYFol0ph"
      }
    },
    {
      "cell_type": "code",
      "execution_count": null,
      "metadata": {
        "id": "dIaNlIiXilH0",
        "colab": {
          "base_uri": "https://localhost:8080/"
        },
        "outputId": "5dac8e39-8d8c-49b2-823a-f1119f6a0e89"
      },
      "outputs": [
        {
          "output_type": "stream",
          "name": "stdout",
          "text": [
            "6.666666666666667\n",
            "reprovado\n"
          ]
        }
      ],
      "source": [
        "#RESPOSTA\n",
        "nota1 =5.0\n",
        "nota2 =7.0\n",
        "nota3 =8.0\n",
        "media = (nota1+nota2+nota3)/3\n",
        "\n",
        "#exibir a media\n",
        "print(media)\n",
        "#verificação da media\n",
        "if media>= 7:\n",
        "  print(\"aprovado\")\n",
        "else:\n",
        "  print(\"reprovado\")"
      ]
    },
    {
      "cell_type": "markdown",
      "source": [
        "2) Suponha agora que dever ser analisado as notas de 3 alunos. Cada aluno é um array que possue 3 valores. Calcule a média de cada aluno. Cada valor de média deve ser armazenado em outro array, medias. Calcule a media aritmetrica do array media e realize uma análise da turma. Caso a média da turma seja maior que 7, print a string \"turma com bom rendimento\", caso media entre 5 e 7, print \"turma com rendimento razoável\". Caso contrário, \"turma com baixo rendimento\"."
      ],
      "metadata": {
        "id": "0J0i684b0h-w"
      }
    },
    {
      "cell_type": "code",
      "source": [
        "#RESPOSTA\n",
        "import statistics as st\n",
        "aluno1 = [5.0,7.0,8.0]\n",
        "aluno2 = [10.0,10.0,10.0]\n",
        "aluno3= [6.0,8.0,9.0]\n",
        "\n",
        "media1 = st.mean(aluno1)\n",
        "media2 = st.mean(aluno2)\n",
        "media3 = st.mean(aluno3)\n",
        "\n",
        "medias = (media2+media2+media3)/3\n",
        "\n",
        "#analise da media\n",
        "if medias>7:\n",
        "  print(\"turma com bom rendimento\")\n",
        "elif medias<=7 or medias>=5:\n",
        "  print(\"turma com rendimento razoável\")\n",
        "else:\n",
        "  print(\"turma com baixo rendimento\")"
      ],
      "metadata": {
        "id": "HUDwy-QY2IpP",
        "colab": {
          "base_uri": "https://localhost:8080/"
        },
        "outputId": "8b6fb9a0-14cb-42b4-cd84-4eb558f22455"
      },
      "execution_count": null,
      "outputs": [
        {
          "output_type": "stream",
          "name": "stdout",
          "text": [
            "turma com bom rendimento\n"
          ]
        }
      ]
    },
    {
      "cell_type": "markdown",
      "source": [
        "3) Construa um dicionário turma que contem 4 chaves aluno1, aluno2,aluno3 e media_da_turma. Cada aluno deve conter 3 notas. Na chave media_da_turma deve conter a media de cada aluno. Construa um dataframe a partir deste dicionário e mostre o dataframe."
      ],
      "metadata": {
        "id": "rPYrKFdQ2phl"
      }
    },
    {
      "cell_type": "code",
      "source": [
        "#resposta\n",
        "turma = {\"aluno1\": [5.0,7.0,8.0],\n",
        "         \"aluno2\": [10.0,10.0,10.0],\n",
        "         \"aluno3\": [6.0,8.0,9.0],\n",
        "         \"media_da_turma\": [6.66666667,10.0,7.66666667]}\n",
        "import pandas as pd\n",
        "dataframe= pd.DataFrame(turma)\n",
        "print(dataframe)"
      ],
      "metadata": {
        "id": "cg00_Xto4G4m",
        "colab": {
          "base_uri": "https://localhost:8080/"
        },
        "outputId": "543c2d65-dbd5-4fc5-98be-8a7fb57854cb"
      },
      "execution_count": null,
      "outputs": [
        {
          "output_type": "stream",
          "name": "stdout",
          "text": [
            "   aluno1  aluno2  aluno3  media_da_turma\n",
            "0     5.0    10.0     6.0        6.666667\n",
            "1     7.0    10.0     8.0       10.000000\n",
            "2     8.0    10.0     9.0        7.666667\n"
          ]
        }
      ]
    },
    {
      "cell_type": "markdown",
      "source": [
        "4) Aumente o dataframe da questão 3 para 10 alunos e mostre o histograma da nota 2."
      ],
      "metadata": {
        "id": "1lfqFSBN7T8E"
      }
    },
    {
      "cell_type": "code",
      "source": [
        "#resposta\n",
        "import matplotlib.pyplot as plt\n",
        "df[\"aluno1\"]=[1,4,1]\n",
        "df[\"aluno2\"]=[2,6,2]\n",
        "df[\"aluno3\"]=[3,2,3]\n",
        "df[\"aluno4\"]=[4,9,4]\n",
        "df[\"aluno5\"]=[5,4,5]\n",
        "df[\"aluno6\"]=[6,6,6]\n",
        "df[\"aluno7\"]=[7,7,7]\n",
        "df[\"aluno8\"]=[8,8,8]\n",
        "df[\"aluno9\"]=[9,9,9]\n",
        "df[\"aluno10\"]=[10,10,10]\n",
        "df[\"media_da_turma\"]=[1,2,3,4,5,6,7,8,9,10]\n",
        "df_new= df.drop([\"media_da_turma\"],axis=1)\n",
        "plt.hist(values, bins=10)\n",
        "plt.show()"
      ],
      "metadata": {
        "id": "q4_5nyZW71vm",
        "colab": {
          "base_uri": "https://localhost:8080/",
          "height": 235
        },
        "outputId": "27b550f6-8025-4f81-f5f4-d87c2d6a2c49"
      },
      "execution_count": null,
      "outputs": [
        {
          "output_type": "error",
          "ename": "NameError",
          "evalue": "ignored",
          "traceback": [
            "\u001b[0;31m---------------------------------------------------------------------------\u001b[0m",
            "\u001b[0;31mNameError\u001b[0m                                 Traceback (most recent call last)",
            "\u001b[0;32m<ipython-input-2-eb808bef1cf2>\u001b[0m in \u001b[0;36m<cell line: 3>\u001b[0;34m()\u001b[0m\n\u001b[1;32m      1\u001b[0m \u001b[0;31m#resposta\u001b[0m\u001b[0;34m\u001b[0m\u001b[0;34m\u001b[0m\u001b[0m\n\u001b[1;32m      2\u001b[0m \u001b[0;32mimport\u001b[0m \u001b[0mmatplotlib\u001b[0m\u001b[0;34m.\u001b[0m\u001b[0mpyplot\u001b[0m \u001b[0;32mas\u001b[0m \u001b[0mplt\u001b[0m\u001b[0;34m\u001b[0m\u001b[0;34m\u001b[0m\u001b[0m\n\u001b[0;32m----> 3\u001b[0;31m \u001b[0mdf\u001b[0m\u001b[0;34m[\u001b[0m\u001b[0;34m\"aluno1\"\u001b[0m\u001b[0;34m]\u001b[0m\u001b[0;34m=\u001b[0m\u001b[0;34m[\u001b[0m\u001b[0;36m1\u001b[0m\u001b[0;34m,\u001b[0m\u001b[0;36m4\u001b[0m\u001b[0;34m,\u001b[0m\u001b[0;36m1\u001b[0m\u001b[0;34m]\u001b[0m\u001b[0;34m\u001b[0m\u001b[0;34m\u001b[0m\u001b[0m\n\u001b[0m\u001b[1;32m      4\u001b[0m \u001b[0mdf\u001b[0m\u001b[0;34m[\u001b[0m\u001b[0;34m\"aluno2\"\u001b[0m\u001b[0;34m]\u001b[0m\u001b[0;34m=\u001b[0m\u001b[0;34m[\u001b[0m\u001b[0;36m2\u001b[0m\u001b[0;34m,\u001b[0m\u001b[0;36m6\u001b[0m\u001b[0;34m,\u001b[0m\u001b[0;36m2\u001b[0m\u001b[0;34m]\u001b[0m\u001b[0;34m\u001b[0m\u001b[0;34m\u001b[0m\u001b[0m\n\u001b[1;32m      5\u001b[0m \u001b[0mdf\u001b[0m\u001b[0;34m[\u001b[0m\u001b[0;34m\"aluno3\"\u001b[0m\u001b[0;34m]\u001b[0m\u001b[0;34m=\u001b[0m\u001b[0;34m[\u001b[0m\u001b[0;36m3\u001b[0m\u001b[0;34m,\u001b[0m\u001b[0;36m2\u001b[0m\u001b[0;34m,\u001b[0m\u001b[0;36m3\u001b[0m\u001b[0;34m]\u001b[0m\u001b[0;34m\u001b[0m\u001b[0;34m\u001b[0m\u001b[0m\n",
            "\u001b[0;31mNameError\u001b[0m: name 'df' is not defined"
          ]
        }
      ]
    },
    {
      "cell_type": "markdown",
      "source": [
        "5) Utilizando o dataframe da questão 4 mostre o grafico de linhas de todas as notas e médias."
      ],
      "metadata": {
        "id": "RKXT09zf73YX"
      }
    },
    {
      "cell_type": "code",
      "source": [
        "#resposta:\n",
        "todas_as_notas=[4.0,2.0,6.0,10.0,5.0,7.5,3.5,4.0,3.5,10.0]\n",
        "media_da_turma=[1,2,3,4,5,6,7,8,9,10]\n",
        "import matplotlib.pyplot as plt\n",
        "plt.plot(todas_as_notas, media_da_turma)\n",
        "plt.show()"
      ],
      "metadata": {
        "id": "f5BqANmj8THe",
        "colab": {
          "base_uri": "https://localhost:8080/",
          "height": 430
        },
        "outputId": "33b1e0d5-8b33-4192-c48c-526419fecf93"
      },
      "execution_count": null,
      "outputs": [
        {
          "output_type": "display_data",
          "data": {
            "text/plain": [
              "<Figure size 640x480 with 1 Axes>"
            ],
            "image/png": "[encoded data removed]"
          },
          "metadata": {}
        }
      ]
    },
    {
      "cell_type": "markdown",
      "source": [],
      "metadata": {
        "id": "rxWops_T8xOG"
      }
    }
  ]
}