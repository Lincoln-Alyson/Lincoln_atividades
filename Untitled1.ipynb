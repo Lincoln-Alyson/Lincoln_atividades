{
  "nbformat": 4,
  "nbformat_minor": 0,
  "metadata": {
    "colab": {
      "provenance": [],
      "authorship_tag": "ABX9TyP++XMmV+B+1baR0d777ZOB",
      "include_colab_link": true
    },
    "kernelspec": {
      "name": "python3",
      "display_name": "Python 3"
    },
    "language_info": {
      "name": "python"
    }
  },
  "cells": [
    {
      "cell_type": "markdown",
      "metadata": {
        "id": "view-in-github",
        "colab_type": "text"
      },
      "source": [
        "<a href=\"https://colab.research.google.com/github/Lincoln-Alyson/Lincoln_atividades/blob/main/Untitled1.ipynb\" target=\"_parent\"><img src=\"https://colab.research.google.com/assets/colab-badge.svg\" alt=\"Open In Colab\"/></a>"
      ]
    },
    {
      "cell_type": "code",
      "execution_count": null,
      "metadata": {
        "colab": {
          "base_uri": "https://localhost:8080/",
          "height": 430
        },
        "id": "8qQTx7gMf7SP",
        "outputId": "609de750-c8fa-486a-8a8b-dbfd246a94d0"
      },
      "outputs": [
        {
          "output_type": "display_data",
          "data": {
            "text/plain": [
              "<Figure size 640x480 with 1 Axes>"
            ],
            "image/png": "[encoded data removed]"
          },
          "metadata": {}
        }
      ],
      "source": [
        "import matplotlib.pyplot as plt\n",
        "year=[1950,1970,1990,2010]\n",
        "pop=[2.519,3.692,5.263,6.972]\n",
        "plt.plot(year,pop)\n",
        "plt.show(year,pop)"
      ]
    },
    {
      "cell_type": "code",
      "source": [],
      "metadata": {
        "id": "8Y983UBViAGp"
      },
      "execution_count": null,
      "outputs": []
    },
    {
      "cell_type": "code",
      "source": [
        "import matplotlib.pyplot as plt\n",
        "year=[1950,1970,1990,2010]\n",
        "pop=[2.519,3.692,5.263,6.972]\n",
        "plt.scatter(year,pop)\n",
        "plt.show(year,pop)"
      ],
      "metadata": {
        "colab": {
          "base_uri": "https://localhost:8080/",
          "height": 430
        },
        "id": "P_y5IZPOhYUr",
        "outputId": "a728a5c0-1e47-4a44-cb4b-4a019434df4a"
      },
      "execution_count": null,
      "outputs": [
        {
          "output_type": "display_data",
          "data": {
            "text/plain": [
              "<Figure size 640x480 with 1 Axes>"
            ],
            "image/png": "[encoded data removed]"
          },
          "metadata": {}
        }
      ]
    },
    {
      "cell_type": "code",
      "source": [
        "help(plt.hist)"
      ],
      "metadata": {
        "colab": {
          "base_uri": "https://localhost:8080/"
        },
        "id": "3aED6UoVjF06",
        "outputId": "47fc48e3-c116-42a7-ead0-d7b8da448818"
      },
      "execution_count": null,
      "outputs": [
        {
          "output_type": "stream",
          "name": "stdout",
          "text": [
            "Help on function hist in module matplotlib.pyplot:\n",
            "\n",
            "hist(x, bins=None, range=None, density=False, weights=None, cumulative=False, bottom=None, histtype='bar', align='mid', orientation='vertical', rwidth=None, log=False, color=None, label=None, stacked=False, *, data=None, **kwargs)\n",
            "    Compute and plot a histogram.\n",
            "    \n",
            "    This method uses `numpy.histogram` to bin the data in *x* and count the\n",
            "    number of values in each bin, then draws the distribution either as a\n",
            "    `.BarContainer` or `.Polygon`. The *bins*, *range*, *density*, and\n",
            "    *weights* parameters are forwarded to `numpy.histogram`.\n",
            "    \n",
            "    If the data has already been binned and counted, use `~.bar` or\n",
            "    `~.stairs` to plot the distribution::\n",
            "    \n",
            "        counts, bins = np.histogram(x)\n",
            "        plt.stairs(counts, bins)\n",
            "    \n",
            "    Alternatively, plot pre-computed bins and counts using ``hist()`` by\n",
            "    treating each bin as a single point with a weight equal to its count::\n",
            "    \n",
            "        plt.hist(bins[:-1], bins, weights=counts)\n",
            "    \n",
            "    The data input *x* can be a singular array, a list of datasets of\n",
            "    potentially different lengths ([*x0*, *x1*, ...]), or a 2D ndarray in\n",
            "    which each column is a dataset. Note that the ndarray form is\n",
            "    transposed relative to the list form. If the input is an array, then\n",
            "    the return value is a tuple (*n*, *bins*, *patches*); if the input is a\n",
            "    sequence of arrays, then the return value is a tuple\n",
            "    ([*n0*, *n1*, ...], *bins*, [*patches0*, *patches1*, ...]).\n",
            "    \n",
            "    Masked arrays are not supported.\n",
            "    \n",
            "    Parameters\n",
            "    ----------\n",
            "    x : (n,) array or sequence of (n,) arrays\n",
            "        Input values, this takes either a single array or a sequence of\n",
            "        arrays which are not required to be of the same length.\n",
            "    \n",
            "    bins : int or sequence or str, default: :rc:`hist.bins`\n",
            "        If *bins* is an integer, it defines the number of equal-width bins\n",
            "        in the range.\n",
            "    \n",
            "        If *bins* is a sequence, it defines the bin edges, including the\n",
            "        left edge of the first bin and the right edge of the last bin;\n",
            "        in this case, bins may be unequally spaced.  All but the last\n",
            "        (righthand-most) bin is half-open.  In other words, if *bins* is::\n",
            "    \n",
            "            [1, 2, 3, 4]\n",
            "    \n",
            "        then the first bin is ``[1, 2)`` (including 1, but excluding 2) and\n",
            "        the second ``[2, 3)``.  The last bin, however, is ``[3, 4]``, which\n",
            "        *includes* 4.\n",
            "    \n",
            "        If *bins* is a string, it is one of the binning strategies\n",
            "        supported by `numpy.histogram_bin_edges`: 'auto', 'fd', 'doane',\n",
            "        'scott', 'stone', 'rice', 'sturges', or 'sqrt'.\n",
            "    \n",
            "    range : tuple or None, default: None\n",
            "        The lower and upper range of the bins. Lower and upper outliers\n",
            "        are ignored. If not provided, *range* is ``(x.min(), x.max())``.\n",
            "        Range has no effect if *bins* is a sequence.\n",
            "    \n",
            "        If *bins* is a sequence or *range* is specified, autoscaling\n",
            "        is based on the specified bin range instead of the\n",
            "        range of x.\n",
            "    \n",
            "    density : bool, default: False\n",
            "        If ``True``, draw and return a probability density: each bin\n",
            "        will display the bin's raw count divided by the total number of\n",
            "        counts *and the bin width*\n",
            "        (``density = counts / (sum(counts) * np.diff(bins))``),\n",
            "        so that the area under the histogram integrates to 1\n",
            "        (``np.sum(density * np.diff(bins)) == 1``).\n",
            "    \n",
            "        If *stacked* is also ``True``, the sum of the histograms is\n",
            "        normalized to 1.\n",
            "    \n",
            "    weights : (n,) array-like or None, default: None\n",
            "        An array of weights, of the same shape as *x*.  Each value in\n",
            "        *x* only contributes its associated weight towards the bin count\n",
            "        (instead of 1).  If *density* is ``True``, the weights are\n",
            "        normalized, so that the integral of the density over the range\n",
            "        remains 1.\n",
            "    \n",
            "    cumulative : bool or -1, default: False\n",
            "        If ``True``, then a histogram is computed where each bin gives the\n",
            "        counts in that bin plus all bins for smaller values. The last bin\n",
            "        gives the total number of datapoints.\n",
            "    \n",
            "        If *density* is also ``True`` then the histogram is normalized such\n",
            "        that the last bin equals 1.\n",
            "    \n",
            "        If *cumulative* is a number less than 0 (e.g., -1), the direction\n",
            "        of accumulation is reversed.  In this case, if *density* is also\n",
            "        ``True``, then the histogram is normalized such that the first bin\n",
            "        equals 1.\n",
            "    \n",
            "    bottom : array-like, scalar, or None, default: None\n",
            "        Location of the bottom of each bin, i.e. bins are drawn from\n",
            "        ``bottom`` to ``bottom + hist(x, bins)`` If a scalar, the bottom\n",
            "        of each bin is shifted by the same amount. If an array, each bin\n",
            "        is shifted independently and the length of bottom must match the\n",
            "        number of bins. If None, defaults to 0.\n",
            "    \n",
            "    histtype : {'bar', 'barstacked', 'step', 'stepfilled'}, default: 'bar'\n",
            "        The type of histogram to draw.\n",
            "    \n",
            "        - 'bar' is a traditional bar-type histogram.  If multiple data\n",
            "          are given the bars are arranged side by side.\n",
            "        - 'barstacked' is a bar-type histogram where multiple\n",
            "          data are stacked on top of each other.\n",
            "        - 'step' generates a lineplot that is by default unfilled.\n",
            "        - 'stepfilled' generates a lineplot that is by default filled.\n",
            "    \n",
            "    align : {'left', 'mid', 'right'}, default: 'mid'\n",
            "        The horizontal alignment of the histogram bars.\n",
            "    \n",
            "        - 'left': bars are centered on the left bin edges.\n",
            "        - 'mid': bars are centered between the bin edges.\n",
            "        - 'right': bars are centered on the right bin edges.\n",
            "    \n",
            "    orientation : {'vertical', 'horizontal'}, default: 'vertical'\n",
            "        If 'horizontal', `~.Axes.barh` will be used for bar-type histograms\n",
            "        and the *bottom* kwarg will be the left edges.\n",
            "    \n",
            "    rwidth : float or None, default: None\n",
            "        The relative width of the bars as a fraction of the bin width.  If\n",
            "        ``None``, automatically compute the width.\n",
            "    \n",
            "        Ignored if *histtype* is 'step' or 'stepfilled'.\n",
            "    \n",
            "    log : bool, default: False\n",
            "        If ``True``, the histogram axis will be set to a log scale.\n",
            "    \n",
            "    color : color or array-like of colors or None, default: None\n",
            "        Color or sequence of colors, one per dataset.  Default (``None``)\n",
            "        uses the standard line color sequence.\n",
            "    \n",
            "    label : str or None, default: None\n",
            "        String, or sequence of strings to match multiple datasets.  Bar\n",
            "        charts yield multiple patches per dataset, but only the first gets\n",
            "        the label, so that `~.Axes.legend` will work as expected.\n",
            "    \n",
            "    stacked : bool, default: False\n",
            "        If ``True``, multiple data are stacked on top of each other If\n",
            "        ``False`` multiple data are arranged side by side if histtype is\n",
            "        'bar' or on top of each other if histtype is 'step'\n",
            "    \n",
            "    Returns\n",
            "    -------\n",
            "    n : array or list of arrays\n",
            "        The values of the histogram bins. See *density* and *weights* for a\n",
            "        description of the possible semantics.  If input *x* is an array,\n",
            "        then this is an array of length *nbins*. If input is a sequence of\n",
            "        arrays ``[data1, data2, ...]``, then this is a list of arrays with\n",
            "        the values of the histograms for each of the arrays in the same\n",
            "        order.  The dtype of the array *n* (or of its element arrays) will\n",
            "        always be float even if no weighting or normalization is used.\n",
            "    \n",
            "    bins : array\n",
            "        The edges of the bins. Length nbins + 1 (nbins left edges and right\n",
            "        edge of last bin).  Always a single array even when multiple data\n",
            "        sets are passed in.\n",
            "    \n",
            "    patches : `.BarContainer` or list of a single `.Polygon` or list of such objects\n",
            "        Container of individual artists used to create the histogram\n",
            "        or list of such containers if there are multiple input datasets.\n",
            "    \n",
            "    Other Parameters\n",
            "    ----------------\n",
            "    data : indexable object, optional\n",
            "        If given, the following parameters also accept a string ``s``, which is\n",
            "        interpreted as ``data[s]`` (unless this raises an exception):\n",
            "    \n",
            "        *x*, *weights*\n",
            "    \n",
            "    **kwargs\n",
            "        `~matplotlib.patches.Patch` properties\n",
            "    \n",
            "    See Also\n",
            "    --------\n",
            "    hist2d : 2D histogram with rectangular bins\n",
            "    hexbin : 2D histogram with hexagonal bins\n",
            "    \n",
            "    Notes\n",
            "    -----\n",
            "    For large numbers of bins (>1000), plotting can be significantly faster\n",
            "    if *histtype* is set to 'step' or 'stepfilled' rather than 'bar' or\n",
            "    'barstacked'.\n",
            "\n"
          ]
        }
      ]
    },
    {
      "cell_type": "code",
      "source": [
        "values=[0,0.6,1.4,1.6,2.2,2.5,2.6,3.2,3.5,3.9,4.2,6]\n",
        "plt.hist(values,bins=4)\n",
        "plt.show(values)"
      ],
      "metadata": {
        "colab": {
          "base_uri": "https://localhost:8080/",
          "height": 430
        },
        "id": "XG5Ajh_Dr_zx",
        "outputId": "ae3476fc-ed26-443e-f64f-ad40c7093299"
      },
      "execution_count": null,
      "outputs": [
        {
          "output_type": "display_data",
          "data": {
            "text/plain": [
              "<Figure size 640x480 with 1 Axes>"
            ],
            "image/png": "[encoded data removed]"
          },
          "metadata": {}
        }
      ]
    }
  ]
}