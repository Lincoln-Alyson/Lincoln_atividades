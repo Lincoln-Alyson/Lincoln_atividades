{
  "nbformat": 4,
  "nbformat_minor": 0,
  "metadata": {
    "colab": {
      "provenance": [],
      "authorship_tag": "ABX9TyPVSRajNPd4maOriv1y967C",
      "include_colab_link": true
    },
    "kernelspec": {
      "name": "python3",
      "display_name": "Python 3"
    },
    "language_info": {
      "name": "python"
    }
  },
  "cells": [
    {
      "cell_type": "markdown",
      "metadata": {
        "id": "view-in-github",
        "colab_type": "text"
      },
      "source": [
        "<a href=\"https://colab.research.google.com/github/Lincoln-Alyson/Lincoln_atividades/blob/main/aula_08_05.ipynb\" target=\"_parent\"><img src=\"https://colab.research.google.com/assets/colab-badge.svg\" alt=\"Open In Colab\"/></a>"
      ]
    },
    {
      "cell_type": "code",
      "execution_count": null,
      "metadata": {
        "colab": {
          "base_uri": "https://localhost:8080/"
        },
        "id": "_5ZR-J-n5U4C",
        "outputId": "1347382b-53a9-413a-94a1-3910b6d17083"
      },
      "outputs": [
        {
          "output_type": "execute_result",
          "data": {
            "text/plain": [
              "True"
            ]
          },
          "metadata": {},
          "execution_count": 2
        }
      ],
      "source": [
        "2<3"
      ]
    },
    {
      "cell_type": "code",
      "source": [
        "2==3"
      ],
      "metadata": {
        "colab": {
          "base_uri": "https://localhost:8080/"
        },
        "id": "SYCMGDrA7JFs",
        "outputId": "c869c80c-e08d-4f54-b6b2-5cf4854e49d2"
      },
      "execution_count": null,
      "outputs": [
        {
          "output_type": "execute_result",
          "data": {
            "text/plain": [
              "False"
            ]
          },
          "metadata": {},
          "execution_count": 3
        }
      ]
    },
    {
      "cell_type": "code",
      "source": [
        "2<=3"
      ],
      "metadata": {
        "colab": {
          "base_uri": "https://localhost:8080/"
        },
        "id": "DaXQQmNu7N92",
        "outputId": "f2a09351-d093-44bd-f57a-bae6765bd435"
      },
      "execution_count": null,
      "outputs": [
        {
          "output_type": "execute_result",
          "data": {
            "text/plain": [
              "True"
            ]
          },
          "metadata": {},
          "execution_count": 4
        }
      ]
    },
    {
      "cell_type": "code",
      "source": [
        "3<=3"
      ],
      "metadata": {
        "colab": {
          "base_uri": "https://localhost:8080/"
        },
        "id": "v5SvvBP_7RQv",
        "outputId": "799c0cb2-4a85-40c7-f14c-cf280c7e4dcd"
      },
      "execution_count": null,
      "outputs": [
        {
          "output_type": "execute_result",
          "data": {
            "text/plain": [
              "True"
            ]
          },
          "metadata": {},
          "execution_count": 6
        }
      ]
    },
    {
      "cell_type": "code",
      "source": [
        "x=2\n",
        "y=3\n",
        "x<y"
      ],
      "metadata": {
        "colab": {
          "base_uri": "https://localhost:8080/"
        },
        "id": "5oaPUTO27Tkn",
        "outputId": "55e83f60-d8a6-4775-a5c2-21db744bc700"
      },
      "execution_count": null,
      "outputs": [
        {
          "output_type": "execute_result",
          "data": {
            "text/plain": [
              "True"
            ]
          },
          "metadata": {},
          "execution_count": 7
        }
      ]
    },
    {
      "cell_type": "code",
      "source": [
        "#exercicio 1)\n",
        "-5*15==75"
      ],
      "metadata": {
        "colab": {
          "base_uri": "https://localhost:8080/"
        },
        "id": "NsrqlsRS7csF",
        "outputId": "3e2d50c4-cc24-4b52-c267-d9426ecc0504"
      },
      "execution_count": null,
      "outputs": [
        {
          "output_type": "execute_result",
          "data": {
            "text/plain": [
              "False"
            ]
          },
          "metadata": {},
          "execution_count": 14
        }
      ]
    },
    {
      "cell_type": "code",
      "source": [
        "#exercicio 2)\n",
        "\"pyscript\"==\"pyScript\""
      ],
      "metadata": {
        "colab": {
          "base_uri": "https://localhost:8080/"
        },
        "id": "jjZ89h-i7wAn",
        "outputId": "a305337b-1326-49c0-dc18-55c08681b0dd"
      },
      "execution_count": null,
      "outputs": [
        {
          "output_type": "execute_result",
          "data": {
            "text/plain": [
              "False"
            ]
          },
          "metadata": {},
          "execution_count": 15
        }
      ]
    },
    {
      "cell_type": "code",
      "source": [
        "#exercicio 3)\n",
        "True==1"
      ],
      "metadata": {
        "colab": {
          "base_uri": "https://localhost:8080/"
        },
        "id": "OocVBktY8EI3",
        "outputId": "87091c63-adff-4ee8-a393-93b2a927c3fc"
      },
      "execution_count": null,
      "outputs": [
        {
          "output_type": "execute_result",
          "data": {
            "text/plain": [
              "True"
            ]
          },
          "metadata": {},
          "execution_count": 16
        }
      ]
    },
    {
      "cell_type": "code",
      "source": [
        "import numpy as np\n",
        "my_house= np.array([18,20,10.75,9.50])\n",
        "your_house= np.array([14,24,14.25,9])\n",
        "#exercicio 1)\n",
        "print(my_house>18)\n",
        "#exercicio 2)\n",
        "print(my_house<your_house)"
      ],
      "metadata": {
        "colab": {
          "base_uri": "https://localhost:8080/"
        },
        "id": "QJrSjagL8W8P",
        "outputId": "c9d34c07-d821-49fc-f4da-7ed6015c1bbe"
      },
      "execution_count": null,
      "outputs": [
        {
          "output_type": "stream",
          "name": "stdout",
          "text": [
            "[False  True False False]\n",
            "[False  True  True False]\n"
          ]
        }
      ]
    },
    {
      "cell_type": "code",
      "source": [
        "# O \"E\" de matemática discreta\n",
        "x= 24\n",
        "x>12 and x<25\n",
        "#true     #true"
      ],
      "metadata": {
        "colab": {
          "base_uri": "https://localhost:8080/"
        },
        "id": "0nmkFbjH9nW8",
        "outputId": "470466f6-4c86-41e0-b4a2-05fe3129b8e4"
      },
      "execution_count": null,
      "outputs": [
        {
          "output_type": "execute_result",
          "data": {
            "text/plain": [
              "True"
            ]
          },
          "metadata": {},
          "execution_count": 26
        }
      ]
    },
    {
      "cell_type": "code",
      "source": [
        "# O \"OU\" de matemática discreta\n",
        "y=5\n",
        "y<7 or y>13"
      ],
      "metadata": {
        "colab": {
          "base_uri": "https://localhost:8080/"
        },
        "id": "83iWyxf1_q0k",
        "outputId": "ed3a496c-f895-4077-fb22-c5caa481cbb9"
      },
      "execution_count": null,
      "outputs": [
        {
          "output_type": "execute_result",
          "data": {
            "text/plain": [
              "True"
            ]
          },
          "metadata": {},
          "execution_count": 27
        }
      ]
    },
    {
      "cell_type": "code",
      "source": [
        "# Negação de matemática discreta\n",
        "not True"
      ],
      "metadata": {
        "colab": {
          "base_uri": "https://localhost:8080/"
        },
        "id": "Psbw2tCDAq6O",
        "outputId": "a137d23b-db20-4935-f230-104a6454ff58"
      },
      "execution_count": null,
      "outputs": [
        {
          "output_type": "execute_result",
          "data": {
            "text/plain": [
              "False"
            ]
          },
          "metadata": {},
          "execution_count": 28
        }
      ]
    },
    {
      "cell_type": "code",
      "source": [
        "#exercicio 1)\n",
        "my_kitchen= 18\n",
        "your_kitchen=14\n",
        "my_kitchen> 10 and my_kitchen<18"
      ],
      "metadata": {
        "colab": {
          "base_uri": "https://localhost:8080/"
        },
        "id": "X_Qarn0DA1TF",
        "outputId": "63cac49c-a5e3-4901-cbd9-51e97f38f855"
      },
      "execution_count": null,
      "outputs": [
        {
          "output_type": "execute_result",
          "data": {
            "text/plain": [
              "False"
            ]
          },
          "metadata": {},
          "execution_count": 29
        }
      ]
    },
    {
      "cell_type": "code",
      "source": [
        "#exercicio 2)\n",
        "my_kitchen= 18\n",
        "your_kitchen=14\n",
        "my_kitchen<14 and my_kitchen>17"
      ],
      "metadata": {
        "colab": {
          "base_uri": "https://localhost:8080/"
        },
        "id": "WjogIUrVBtCn",
        "outputId": "92564d47-5fa2-43a9-f479-170f0fe9cde8"
      },
      "execution_count": null,
      "outputs": [
        {
          "output_type": "execute_result",
          "data": {
            "text/plain": [
              "False"
            ]
          },
          "metadata": {},
          "execution_count": 30
        }
      ]
    },
    {
      "cell_type": "code",
      "source": [
        "#exercicio 3)\n",
        "my_kitchen= 18\n",
        "your_kitchen=14\n",
        "2*my_kitchen< 3*your_kitchen"
      ],
      "metadata": {
        "colab": {
          "base_uri": "https://localhost:8080/"
        },
        "id": "GGbvygONCAQg",
        "outputId": "d7ecc7d4-6023-4d7f-d16e-d54aa7304f2d"
      },
      "execution_count": null,
      "outputs": [
        {
          "output_type": "execute_result",
          "data": {
            "text/plain": [
              "True"
            ]
          },
          "metadata": {},
          "execution_count": 32
        }
      ]
    },
    {
      "cell_type": "code",
      "source": [
        "#exercicio 4)\n",
        "my_house= np.array([18,20,10.75,9.50])\n",
        "your_house= np.array([14,24,14.25,9])\n",
        "np.logical_or(my_house<18.5, my_house>10)"
      ],
      "metadata": {
        "colab": {
          "base_uri": "https://localhost:8080/"
        },
        "id": "XIIr4iAnCNFF",
        "outputId": "1db21226-a72d-4371-e377-c11dd75db4a5"
      },
      "execution_count": null,
      "outputs": [
        {
          "output_type": "execute_result",
          "data": {
            "text/plain": [
              "array([ True,  True,  True,  True])"
            ]
          },
          "metadata": {},
          "execution_count": 34
        }
      ]
    },
    {
      "cell_type": "code",
      "source": [
        "#exercicio 5)\n",
        "my_house= np.array([18,20,10.75,9.50])\n",
        "your_house= np.array([14,24,14.25,9])\n",
        "print(my_house[np.logical_or(my_house<11, your_house<11)])\n",
        "print(np.logical_and(my_house<11,your_house<11))"
      ],
      "metadata": {
        "colab": {
          "base_uri": "https://localhost:8080/"
        },
        "id": "xPlHDwakC0xF",
        "outputId": "2f1105b6-9f9a-4f39-bd60-929dc496600b"
      },
      "execution_count": null,
      "outputs": [
        {
          "output_type": "stream",
          "name": "stdout",
          "text": [
            "[10.75  9.5 ]\n",
            "[False False False  True]\n"
          ]
        }
      ]
    },
    {
      "cell_type": "code",
      "source": [
        "from ast import Expression\n",
        "z=4\n",
        "if z % 2==0:\n",
        "  print(\"z is even\")"
      ],
      "metadata": {
        "colab": {
          "base_uri": "https://localhost:8080/"
        },
        "id": "Dq4LCCzqFAZO",
        "outputId": "280fbeda-ef4d-4b66-8939-fae88ec36ac9"
      },
      "execution_count": null,
      "outputs": [
        {
          "output_type": "stream",
          "name": "stdout",
          "text": [
            "z is even\n"
          ]
        }
      ]
    },
    {
      "cell_type": "code",
      "source": [
        "z=5\n",
        "if z % 2==0 :\n",
        "  print(\"z is even\")\n",
        "else:\n",
        "  print(\"z is odd\")"
      ],
      "metadata": {
        "colab": {
          "base_uri": "https://localhost:8080/"
        },
        "id": "gPEKp-RHG3JX",
        "outputId": "aeb9f7e4-05d2-4bce-ead4-e9cf72be58b6"
      },
      "execution_count": null,
      "outputs": [
        {
          "output_type": "stream",
          "name": "stdout",
          "text": [
            "z is odd\n"
          ]
        }
      ]
    },
    {
      "cell_type": "code",
      "source": [
        "z=3\n",
        "if z % 2==0 :\n",
        "  print(\"z is divisible by 2\")\n",
        "elif z % 3==0 :\n",
        "  print(\"z is divisible by 3\")\n",
        "else :\n",
        "  print(\"z is neither divisible by 2 nor by 3\")"
      ],
      "metadata": {
        "colab": {
          "base_uri": "https://localhost:8080/"
        },
        "id": "fcM19CDlIBue",
        "outputId": "2241c1de-3811-4df5-d4c3-114a1d3161a7"
      },
      "execution_count": null,
      "outputs": [
        {
          "output_type": "stream",
          "name": "stdout",
          "text": [
            "z is divisible by 3\n"
          ]
        }
      ]
    },
    {
      "cell_type": "code",
      "source": [
        "#exercicio 6)\n",
        "room=\"kit\"\n",
        "area=14\n",
        "if area<15 :\n",
        "  print(\"Big Place\")\n",
        "else:\n",
        "  print(\"pretty small\")"
      ],
      "metadata": {
        "colab": {
          "base_uri": "https://localhost:8080/"
        },
        "id": "YMklMkcVIufF",
        "outputId": "b661a18c-50ce-4bd5-a30b-ced5012baccc"
      },
      "execution_count": null,
      "outputs": [
        {
          "output_type": "stream",
          "name": "stdout",
          "text": [
            "Big Place\n"
          ]
        }
      ]
    }
  ]
}