{
  "nbformat": 4,
  "nbformat_minor": 0,
  "metadata": {
    "colab": {
      "provenance": [],
      "authorship_tag": "ABX9TyMzqpAmTCLQhWaT75ngAUxS",
      "include_colab_link": true
    },
    "kernelspec": {
      "name": "python3",
      "display_name": "Python 3"
    },
    "language_info": {
      "name": "python"
    }
  },
  "cells": [
    {
      "cell_type": "markdown",
      "metadata": {
        "id": "view-in-github",
        "colab_type": "text"
      },
      "source": [
        "<a href=\"https://colab.research.google.com/github/Lincoln-Alyson/Lincoln_atividades/blob/main/aula_24_05.ipynb\" target=\"_parent\"><img src=\"https://colab.research.google.com/assets/colab-badge.svg\" alt=\"Open In Colab\"/></a>"
      ]
    },
    {
      "cell_type": "code",
      "execution_count": null,
      "metadata": {
        "colab": {
          "base_uri": "https://localhost:8080/"
        },
        "id": "o3ECtgPksCoB",
        "outputId": "d7955762-6077-4828-d0c9-5bb3fb69a60c"
      },
      "outputs": [
        {
          "output_type": "stream",
          "name": "stdout",
          "text": [
            "                 country    capital    area  population  name_length\n",
            "country_ab                                                          \n",
            "BR                Brazil   Brasilia   8.516      200.40            6\n",
            "RU                Russia     Moscow  17.100      143.50            6\n",
            "IN                 India  New Delhi   3.286     1252.00            5\n",
            "CH                 China    Beijing   9.597     1357.00            5\n",
            "SA          South Africa   Pretoria   1.221       52.98           12\n"
          ]
        }
      ],
      "source": [
        "import pandas as pd\n",
        "brics= pd.read_csv(\"brics.csv\", index_col= 0)\n",
        "brics[\"name_length\"]= brics[\"country\"].apply(len)\n",
        "print(brics)"
      ]
    },
    {
      "cell_type": "code",
      "source": [
        "cars= pd.read_csv('/content/cars (2).csv', index_col= 0)\n",
        "for colum in cars:\n",
        "  print(colum)"
      ],
      "metadata": {
        "colab": {
          "base_uri": "https://localhost:8080/"
        },
        "id": "jRo6ibiWuNlp",
        "outputId": "5de7a516-6203-48ea-c379-fb2ce661c8e0"
      },
      "execution_count": null,
      "outputs": [
        {
          "output_type": "stream",
          "name": "stdout",
          "text": [
            "cars_per_cap\n",
            "country\n",
            "drives_right\n"
          ]
        }
      ]
    },
    {
      "cell_type": "code",
      "source": [
        "for cals, row in cars.iterrows():\n",
        "  print(cals + \": \" + str(row[\"cars_per_cap\"]))"
      ],
      "metadata": {
        "colab": {
          "base_uri": "https://localhost:8080/"
        },
        "id": "_XfBepf5z9aH",
        "outputId": "f1096c90-55c6-4ee5-93df-26bc8dc43b20"
      },
      "execution_count": null,
      "outputs": [
        {
          "output_type": "stream",
          "name": "stdout",
          "text": [
            "US: 809\n",
            "AUS: 731\n",
            "JAP: 588\n",
            "IN: 18\n",
            "RU: 200\n",
            "MOR: 70\n",
            "EG: 45\n"
          ]
        }
      ]
    },
    {
      "cell_type": "code",
      "source": [
        "import pandas as pd\n",
        "cars= pd.read_csv('/content/cars (2).csv', index_col= 0)\n",
        "for lab, row in cars.iterrows():\n",
        "  cars.loc[lab, \"COUNTRY\"] = row[\"country\"].upper()\n",
        "print(cars)"
      ],
      "metadata": {
        "colab": {
          "base_uri": "https://localhost:8080/"
        },
        "id": "oqd5RBv618Rk",
        "outputId": "424a58d1-5135-4ed2-ab4d-f9fd80e5989b"
      },
      "execution_count": null,
      "outputs": [
        {
          "output_type": "stream",
          "name": "stdout",
          "text": [
            "            cars_per_cap        country  drives_right        COUNTRY\n",
            "country_ab                                                          \n",
            "US                   809  United States          True  UNITED STATES\n",
            "AUS                  731      Australia         False      AUSTRALIA\n",
            "JAP                  588          Japan         False          JAPAN\n",
            "IN                    18          India         False          INDIA\n",
            "RU                   200         Russia          True         RUSSIA\n",
            "MOR                   70        Morocco          True        MOROCCO\n",
            "EG                    45          Egypt          True          EGYPT\n"
          ]
        }
      ]
    },
    {
      "cell_type": "code",
      "source": [
        "cars[\"COUNTRY\"]= cars[\"country\"].apply(str.upper)\n",
        "print(cars)"
      ],
      "metadata": {
        "colab": {
          "base_uri": "https://localhost:8080/"
        },
        "id": "YoCQTuq95DdX",
        "outputId": "89a3fb31-01e6-47cd-eb52-71515ae8bc00"
      },
      "execution_count": null,
      "outputs": [
        {
          "output_type": "stream",
          "name": "stdout",
          "text": [
            "            cars_per_cap        country  drives_right        COUNTRY\n",
            "country_ab                                                          \n",
            "US                   809  United States          True  UNITED STATES\n",
            "AUS                  731      Australia         False      AUSTRALIA\n",
            "JAP                  588          Japan         False          JAPAN\n",
            "IN                    18          India         False          INDIA\n",
            "RU                   200         Russia          True         RUSSIA\n",
            "MOR                   70        Morocco          True        MOROCCO\n",
            "EG                    45          Egypt          True          EGYPT\n"
          ]
        }
      ]
    },
    {
      "cell_type": "code",
      "source": [
        "import numpy as np\n",
        "np.random.rand()"
      ],
      "metadata": {
        "colab": {
          "base_uri": "https://localhost:8080/"
        },
        "id": "9GVy-Vsb5xIx",
        "outputId": "5192cd64-79f0-428c-994c-6de4b34ca562"
      },
      "execution_count": null,
      "outputs": [
        {
          "output_type": "execute_result",
          "data": {
            "text/plain": [
              "0.7290497073840416"
            ]
          },
          "metadata": {},
          "execution_count": 72
        }
      ]
    },
    {
      "cell_type": "code",
      "source": [
        "np.random.seed(123)\n",
        "np.random.rand()"
      ],
      "metadata": {
        "colab": {
          "base_uri": "https://localhost:8080/"
        },
        "id": "Dw3cUrzT5-mH",
        "outputId": "12cfda21-271f-4343-d86e-b2a9bafbd708"
      },
      "execution_count": null,
      "outputs": [
        {
          "output_type": "execute_result",
          "data": {
            "text/plain": [
              "0.6964691855978616"
            ]
          },
          "metadata": {},
          "execution_count": 61
        }
      ]
    },
    {
      "cell_type": "code",
      "source": [
        "np.random.rand()"
      ],
      "metadata": {
        "colab": {
          "base_uri": "https://localhost:8080/"
        },
        "id": "EGEVOcuo6JTv",
        "outputId": "f1309908-490a-4374-b25c-a5191372567a"
      },
      "execution_count": null,
      "outputs": [
        {
          "output_type": "execute_result",
          "data": {
            "text/plain": [
              "0.28613933495037946"
            ]
          },
          "metadata": {},
          "execution_count": 51
        }
      ]
    },
    {
      "cell_type": "code",
      "source": [
        "import numpy as np\n",
        "np.random.rand(123)\n",
        "coin= np.random.randint(0, 2)\n",
        "print(coin)"
      ],
      "metadata": {
        "colab": {
          "base_uri": "https://localhost:8080/"
        },
        "id": "gS9j4PUI6UtF",
        "outputId": "8a11d73c-3f36-4b90-cd08-63532862e020"
      },
      "execution_count": null,
      "outputs": [
        {
          "output_type": "stream",
          "name": "stdout",
          "text": [
            "0\n"
          ]
        }
      ]
    },
    {
      "cell_type": "code",
      "source": [
        "import numpy as np\n",
        "coin= np.random.randint(0, 2)\n",
        "print(coin)\n",
        "if coin == 0:\n",
        "  print(\"heads\")\n",
        "else:\n",
        "  print(\"tails\")"
      ],
      "metadata": {
        "colab": {
          "base_uri": "https://localhost:8080/"
        },
        "id": "0dEeO2dm6mRH",
        "outputId": "4e918921-8642-4714-d41f-e3beb8848c5e"
      },
      "execution_count": null,
      "outputs": [
        {
          "output_type": "stream",
          "name": "stdout",
          "text": [
            "1\n",
            "tails\n"
          ]
        }
      ]
    }
  ]
}