{
  "nbformat": 4,
  "nbformat_minor": 0,
  "metadata": {
    "colab": {
      "provenance": [],
      "authorship_tag": "ABX9TyP96WiEpu89DQffqaJSjCRv",
      "include_colab_link": true
    },
    "kernelspec": {
      "name": "python3",
      "display_name": "Python 3"
    },
    "language_info": {
      "name": "python"
    }
  },
  "cells": [
    {
      "cell_type": "markdown",
      "metadata": {
        "id": "view-in-github",
        "colab_type": "text"
      },
      "source": [
        "<a href=\"https://colab.research.google.com/github/Lincoln-Alyson/Lincoln_atividades/blob/main/resumo_para_prova_do_Alyson.ipynb\" target=\"_parent\"><img src=\"https://colab.research.google.com/assets/colab-badge.svg\" alt=\"Open In Colab\"/></a>"
      ]
    },
    {
      "cell_type": "code",
      "execution_count": null,
      "metadata": {
        "id": "aBzwdbzyb0ul",
        "colab": {
          "base_uri": "https://localhost:8080/"
        },
        "outputId": "d42e70fa-72b6-46d1-ee55-4bdc5ed7ca11"
      },
      "outputs": [
        {
          "output_type": "execute_result",
          "data": {
            "text/plain": [
              "1.79"
            ]
          },
          "metadata": {},
          "execution_count": 1
        }
      ],
      "source": [
        "#tipos de varialvel\n",
        "height= 1.79\n",
        "weight= 68.7\n",
        "height"
      ]
    },
    {
      "cell_type": "code",
      "source": [
        "#achar o bmi\n",
        "bmi= weight/ height ** 2\n",
        "print(bmi)"
      ],
      "metadata": {
        "colab": {
          "base_uri": "https://localhost:8080/"
        },
        "id": "yf1KayQRzNaX",
        "outputId": "1281a05c-536c-4c58-bfa8-d586a930cba9"
      },
      "execution_count": null,
      "outputs": [
        {
          "output_type": "stream",
          "name": "stdout",
          "text": [
            "21.44127836209856\n"
          ]
        }
      ]
    },
    {
      "cell_type": "code",
      "source": [
        "type(bmi)"
      ],
      "metadata": {
        "colab": {
          "base_uri": "https://localhost:8080/"
        },
        "id": "jmb1wOz3z78F",
        "outputId": "a1847122-787d-466e-bf72-a780af8e77dd"
      },
      "execution_count": null,
      "outputs": [
        {
          "output_type": "execute_result",
          "data": {
            "text/plain": [
              "float"
            ]
          },
          "metadata": {},
          "execution_count": 5
        }
      ]
    },
    {
      "cell_type": "code",
      "source": [
        "day_of_week= 5\n",
        "type(day_of_week)"
      ],
      "metadata": {
        "colab": {
          "base_uri": "https://localhost:8080/"
        },
        "id": "dPuzFMRL0Fvh",
        "outputId": "3fa87ac9-7d55-4809-9346-af4db6c1ccd5"
      },
      "execution_count": null,
      "outputs": [
        {
          "output_type": "execute_result",
          "data": {
            "text/plain": [
              "int"
            ]
          },
          "metadata": {},
          "execution_count": 6
        }
      ]
    },
    {
      "cell_type": "code",
      "source": [
        "x= \"body mass index\"\n",
        "y= 'this works too'\n",
        "type(y)"
      ],
      "metadata": {
        "colab": {
          "base_uri": "https://localhost:8080/"
        },
        "id": "tb2sTyvo0OeE",
        "outputId": "1b502730-084f-4069-eef7-b5b5d79fae2a"
      },
      "execution_count": null,
      "outputs": [
        {
          "output_type": "execute_result",
          "data": {
            "text/plain": [
              "str"
            ]
          },
          "metadata": {},
          "execution_count": 7
        }
      ]
    },
    {
      "cell_type": "code",
      "source": [
        "2 + 3"
      ],
      "metadata": {
        "colab": {
          "base_uri": "https://localhost:8080/"
        },
        "id": "UkNWzH_o0cdS",
        "outputId": "0520c0cb-1cae-4454-b44e-e1cfa2a8a388"
      },
      "execution_count": null,
      "outputs": [
        {
          "output_type": "execute_result",
          "data": {
            "text/plain": [
              "5"
            ]
          },
          "metadata": {},
          "execution_count": 8
        }
      ]
    },
    {
      "cell_type": "code",
      "source": [
        "'ab'+'dc'"
      ],
      "metadata": {
        "colab": {
          "base_uri": "https://localhost:8080/",
          "height": 35
        },
        "id": "iwarKqd50iI_",
        "outputId": "ae25ece0-8163-4e00-a395-b6d990385dbb"
      },
      "execution_count": null,
      "outputs": [
        {
          "output_type": "execute_result",
          "data": {
            "text/plain": [
              "'abdc'"
            ],
            "application/vnd.google.colaboratory.intrinsic+json": {
              "type": "string"
            }
          },
          "metadata": {},
          "execution_count": 9
        }
      ]
    },
    {
      "cell_type": "code",
      "source": [
        "#Exemplo\n",
        "print(5/8)\n",
        "#Exemplo 2\n",
        "print(7+8)"
      ],
      "metadata": {
        "colab": {
          "base_uri": "https://localhost:8080/"
        },
        "id": "2t8CaUIT0lWh",
        "outputId": "a598bc7c-e329-4ca3-8770-649d0fd6d893"
      },
      "execution_count": null,
      "outputs": [
        {
          "output_type": "stream",
          "name": "stdout",
          "text": [
            "0.625\n",
            "15\n"
          ]
        }
      ]
    },
    {
      "cell_type": "code",
      "source": [
        "#criação de listas\n",
        "fam= [1.73, 1.68, 1.71, 1.89]\n",
        "fam"
      ],
      "metadata": {
        "id": "WyQBCRb809Yh",
        "colab": {
          "base_uri": "https://localhost:8080/"
        },
        "outputId": "18780dd0-6a15-4382-a5db-22660f8a330b"
      },
      "execution_count": null,
      "outputs": [
        {
          "output_type": "execute_result",
          "data": {
            "text/plain": [
              "[1.73, 1.68, 1.71, 1.89]"
            ]
          },
          "metadata": {},
          "execution_count": 12
        }
      ]
    },
    {
      "cell_type": "code",
      "source": [
        "fam2= [['Liz', 1.73],\n",
        "       ['Emma', 1.68],\n",
        "       ['mom', 1.71],\n",
        "       ['dad', 1.89]]\n",
        "fam2"
      ],
      "metadata": {
        "colab": {
          "base_uri": "https://localhost:8080/"
        },
        "id": "SjWdnTvM6xda",
        "outputId": "e492b383-fe76-4575-9f18-54c3c9bc02fa"
      },
      "execution_count": null,
      "outputs": [
        {
          "output_type": "execute_result",
          "data": {
            "text/plain": [
              "[['Liz', 1.73], ['Emma', 1.68], ['mom', 1.71], ['dad', 1.89]]"
            ]
          },
          "metadata": {},
          "execution_count": 13
        }
      ]
    },
    {
      "cell_type": "code",
      "source": [
        "type(fam)\n",
        "type(fam2)"
      ],
      "metadata": {
        "colab": {
          "base_uri": "https://localhost:8080/"
        },
        "id": "3EUCO7Lt7VPc",
        "outputId": "f79a541c-e8f1-4f38-ae47-8417cb5dd4b2"
      },
      "execution_count": null,
      "outputs": [
        {
          "output_type": "execute_result",
          "data": {
            "text/plain": [
              "list"
            ]
          },
          "metadata": {},
          "execution_count": 15
        }
      ]
    },
    {
      "cell_type": "code",
      "source": [
        "#acessando itens de uma lista\n",
        "fam2[2]"
      ],
      "metadata": {
        "colab": {
          "base_uri": "https://localhost:8080/"
        },
        "id": "l6CPn-uD7cCc",
        "outputId": "471c0095-0851-4ea6-819f-dba3fdbb5d60"
      },
      "execution_count": null,
      "outputs": [
        {
          "output_type": "execute_result",
          "data": {
            "text/plain": [
              "['mom', 1.71]"
            ]
          },
          "metadata": {},
          "execution_count": 16
        }
      ]
    },
    {
      "cell_type": "code",
      "source": [
        "#acessando itens de uma lista dentro de outra\n",
        "fam2[0][1]"
      ],
      "metadata": {
        "colab": {
          "base_uri": "https://localhost:8080/"
        },
        "id": "rofJXLQC7nhd",
        "outputId": "9fdfd26f-0069-4f7f-a9b3-0529f41385fd"
      },
      "execution_count": null,
      "outputs": [
        {
          "output_type": "execute_result",
          "data": {
            "text/plain": [
              "1.73"
            ]
          },
          "metadata": {},
          "execution_count": 17
        }
      ]
    },
    {
      "cell_type": "code",
      "source": [
        "import numpy as np\n",
        "fam_array= np.array(fam)\n",
        "print(fam_array)"
      ],
      "metadata": {
        "colab": {
          "base_uri": "https://localhost:8080/"
        },
        "id": "Z4My34_G7vBY",
        "outputId": "ffa0a5b4-c5cf-49bd-993e-3209a9939c04"
      },
      "execution_count": null,
      "outputs": [
        {
          "output_type": "stream",
          "name": "stdout",
          "text": [
            "[1.73 1.68 1.71 1.89]\n"
          ]
        }
      ]
    },
    {
      "cell_type": "code",
      "source": [
        "np_height= np.array(height)\n",
        "np_weight= np.array(weight)\n",
        "IMC= np_weight/ np_height**2\n",
        "IMC"
      ],
      "metadata": {
        "colab": {
          "base_uri": "https://localhost:8080/"
        },
        "id": "Ov7pFGaW87cz",
        "outputId": "dabb143d-7f15-448f-a5c2-5d62aac289aa"
      },
      "execution_count": null,
      "outputs": [
        {
          "output_type": "execute_result",
          "data": {
            "text/plain": [
              "21.44127836209856"
            ]
          },
          "metadata": {},
          "execution_count": 21
        }
      ]
    },
    {
      "cell_type": "code",
      "source": [
        "import matplotlib.pyplot as plt\n",
        "year= [1950, 1970, 1990, 2010, 2030, 2050, 2070, 2090]\n",
        "pop= [1.456, 1.534, 1.782, 1.803, 1.869, 1.928, 1.994, 2.635]\n",
        "plt.plot(year, pop)\n",
        "plt.show\n",
        "plt.xlabel('Year')\n",
        "plt.ylabel('Population')\n",
        "plt.title('Population of WOrld')"
      ],
      "metadata": {
        "colab": {
          "base_uri": "https://localhost:8080/",
          "height": 489
        },
        "id": "n58uC_X49fOV",
        "outputId": "3a6b81a5-7e1f-4414-8ac3-f87d236c360c"
      },
      "execution_count": null,
      "outputs": [
        {
          "output_type": "execute_result",
          "data": {
            "text/plain": [
              "Text(0.5, 1.0, 'Population of WOrld')"
            ]
          },
          "metadata": {},
          "execution_count": 26
        },
        {
          "output_type": "display_data",
          "data": {
            "text/plain": [
              "<Figure size 640x480 with 1 Axes>"
            ],
            "image/png": "[encoded data removed]"
          },
          "metadata": {}
        }
      ]
    },
    {
      "cell_type": "code",
      "source": [
        "europe= {'Sapin':'Madrid', 'France':'Paris', 'Germany':'Berlin','Norway':'Oslo'}\n",
        "print(europe.keys())\n",
        "print(europe['Norway'])"
      ],
      "metadata": {
        "colab": {
          "base_uri": "https://localhost:8080/"
        },
        "id": "jANMo-6tAoKg",
        "outputId": "0ec2c539-7c3f-46b0-d044-f3258a92eaa8"
      },
      "execution_count": null,
      "outputs": [
        {
          "output_type": "stream",
          "name": "stdout",
          "text": [
            "dict_keys(['Sapin', 'France', 'Germany', 'Norway'])\n",
            "Oslo\n"
          ]
        }
      ]
    },
    {
      "cell_type": "code",
      "source": [],
      "metadata": {
        "id": "-ajJ_pn1B_cT"
      },
      "execution_count": null,
      "outputs": []
    }
  ]
}